{
 "cells": [
  {
   "cell_type": "code",
   "execution_count": null,
   "id": "ed8fdd83",
   "metadata": {},
   "outputs": [],
   "source": [
    "import streamlit as st\n",
    "import pandas as pd\n",
    "import folium\n",
    "from folium.plugins import HeatMap, FastMarkerCluster\n",
    "import sys\n",
    "st.write(sys.executable)"
   ]
  },
  {
   "cell_type": "code",
   "execution_count": null,
   "id": "da7afa48",
   "metadata": {},
   "outputs": [],
   "source": [
    "\n",
    "sedes_tic = pd.read_csv('data/sedes_geo.csv', sep = '|')\n"
   ]
  },
  {
   "cell_type": "code",
   "execution_count": null,
   "id": "6d470d67",
   "metadata": {},
   "outputs": [],
   "source": [
    "\n",
    "def generateBaseMap(default_location=[4.631530, -74.109180], default_zoom_start=11):\n",
    "    base_map = folium.Map(location=default_location, zoom_start=default_zoom_start)\n",
    "    return base_map\n",
    "\n",
    "basemap=generateBaseMap()"
   ]
  },
  {
   "cell_type": "code",
   "execution_count": null,
   "id": "c4ddd16f",
   "metadata": {},
   "outputs": [],
   "source": [
    "FastMarkerCluster(data=sedes_tic[['LATITUD', 'LONGITUD','Estudiantes por computador']].values.tolist()).add_to(basemap)\n",
    "basemap\n",
    "\n",
    "st.write(basemap)\n"
   ]
  }
 ],
 "metadata": {
  "kernelspec": {
   "display_name": "Python 3 (ipykernel)",
   "language": "python",
   "name": "python3"
  },
  "language_info": {
   "codemirror_mode": {
    "name": "ipython",
    "version": 3
   },
   "file_extension": ".py",
   "mimetype": "text/x-python",
   "name": "python",
   "nbconvert_exporter": "python",
   "pygments_lexer": "ipython3",
   "version": "3.8.16"
  }
 },
 "nbformat": 4,
 "nbformat_minor": 5
}
